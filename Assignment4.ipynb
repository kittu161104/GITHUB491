{
 "cells": [
  {
   "cell_type": "code",
   "execution_count": 1,
   "metadata": {},
   "outputs": [
    {
     "name": "stdout",
     "output_type": "stream",
     "text": [
      "Sum of even number till 5  is  6\n"
     ]
    }
   ],
   "source": [
    "def sum_of_even_integers(n):\n",
    "    sum=0\n",
    "    for i in range(1,n+1):\n",
    "        if i%2==0:\n",
    "            sum+=i\n",
    "    return sum\n",
    "\n",
    "n=int(input(\"Enter a positive integer to calculate even numberS till the given number \"))   \n",
    "result=sum_of_even_integers(n)\n",
    "print(f\"Sum of even number till {n}  is \",result)"
   ]
  },
  {
   "cell_type": "code",
   "execution_count": null,
   "metadata": {},
   "outputs": [],
   "source": []
  }
 ],
 "metadata": {
  "kernelspec": {
   "display_name": "Python 3",
   "language": "python",
   "name": "python3"
  },
  "language_info": {
   "codemirror_mode": {
    "name": "ipython",
    "version": 3
   },
   "file_extension": ".py",
   "mimetype": "text/x-python",
   "name": "python",
   "nbconvert_exporter": "python",
   "pygments_lexer": "ipython3",
   "version": "3.13.1"
  }
 },
 "nbformat": 4,
 "nbformat_minor": 2
}
